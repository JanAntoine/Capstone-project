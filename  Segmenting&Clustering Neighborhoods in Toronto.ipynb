{
    "cells": [
        {
            "metadata": {
                "collapsed": true
            },
            "cell_type": "markdown",
            "source": "#  Segmenting and Clustering Neighborhoods in Toronto\nIn this Notebook I will gather information about Toronto neighborhoods from different sources (Wikipedia, Foursquares, etc.). I will use different Python libraries to gather and clean the data. From this new dataset I will |train a model (K nearsest neighbors) to cluster the neighborhoods based on the venues in that area. Then we will plot these finding on maps and figures to illustrate their meaning. "
        },
        {
            "metadata": {},
            "cell_type": "markdown",
            "source": "## Part 1 - Scrapping Wikipedia and creating dataframe\n\nIn this part we will gather data from the wikipedia website on Torronto. The postal code, neighborhood and borough will be stored in a dataframe. \n\nhttps://en.wikipedia.org/wiki/List_of_postal_codes_of_Canada:_M, "
        },
        {
            "metadata": {},
            "cell_type": "code",
            "source": "# importing the libraries\nimport pandas as pd\nimport numpy as np\nfrom bs4 import BeautifulSoup\nimport requests as req\n\nprint('libraries imported succesfully')",
            "execution_count": 7,
            "outputs": [
                {
                    "output_type": "stream",
                    "text": "libraries imported succesfully\n",
                    "name": "stdout"
                }
            ]
        },
        {
            "metadata": {},
            "cell_type": "code",
            "source": "# making a get request from wikipedia and storing the HTML data in beautifullsoup object\nurl = 'https://en.wikipedia.org/wiki/List_of_postal_codes_of_Canada:_M'\nhtml_doc = req.get(url).text\nsoup = BeautifulSoup(html_doc, 'html5lib')",
            "execution_count": 19,
            "outputs": []
        },
        {
            "metadata": {},
            "cell_type": "code",
            "source": "\n#To turn al the cells of the table into a list to iterate through\ntable_cells = soup.table.find_all('td')\n\n#create a empty pandas dataframe to store the information\ndf_postal = pd.DataFrame()\n\n# iterate through the cells to extract the data\nfor cells in table_cells:\n    PostalCode = cells.b.text\n    Borough_Neighborhood = cells.span.text\n    \n    try: #not all PostalCodes have a borough or neighborhoods associated with them \n        Borough = Borough_Neighborhood.split(\"(\")[0]\n        try:\n            Neighborhood = Borough_Neighborhood.split(\"(\")[1].replace(\")\", \" \").replace('/', ',') + \", \" + Borough_Neighborhood.split(\"(\")[2].replace(\")\", \" \").replace('/', ',')\n        except:\n            Neighborhood = Borough_Neighborhood.split(\"(\")[1].replace(\")\", \" \").replace('/', ',')\n    except:\n        Borough = 'NA'\n        Neighborhood = 'NA'\n    \n    df_temp = pd.DataFrame(data=[[PostalCode, Borough, Neighborhood]])\n    df_postal = pd.concat([df_postal, df_temp])\n    \n# cleaning dataframe\ndf_postal.rename(columns = {0:'PostalCode', 1:'Borough', 2:'Neighborhood'}, inplace = True) #name columns\ndf_postal = df_postal[df_postal.Borough != 'NA'] #drop all rows without bourough information\ndf_postal.reset_index(drop = True, inplace=True)\n",
            "execution_count": 204,
            "outputs": []
        },
        {
            "metadata": {},
            "cell_type": "markdown",
            "source": "## review of dataframe\nThe data frame has 103 PostalCodes which is the same number Wikipedia suggest there are in Torronto. We can distinguish 15 different Boruoughs in the dataframe, some of which seem to be Mail processing centres we might nog use later on the analyses."
        },
        {
            "metadata": {},
            "cell_type": "code",
            "source": "# check dataframe\nprint('there are ' + str(len(df_postal['PostalCode'])) + ' distinct Postal Codes in our dataframe')\n\nprint('From ' + str(len(pd.unique(df_postal['Borough']))) + ' different Boroughs')\nprint(\"\")\nprint(pd.unique(df_postal['Borough']))\n\ndf_postal.head(5)\n",
            "execution_count": 206,
            "outputs": [
                {
                    "output_type": "stream",
                    "text": "there are 103 distinct Postal Codes in our dataframe\nFrom 15 different Boroughs\n\n['North York' 'Downtown Toronto' \"Queen's Park\" 'Etobicoke' 'Scarborough'\n 'East York' 'York' 'East Toronto' 'West Toronto' 'East YorkEast Toronto'\n 'Central Toronto' 'MississaugaCanada Post Gateway Processing Centre'\n 'Downtown TorontoStn A PO Boxes25 The Esplanade' 'EtobicokeNorthwest'\n 'East TorontoBusiness reply mail Processing Centre969 Eastern']\n",
                    "name": "stdout"
                },
                {
                    "output_type": "execute_result",
                    "execution_count": 206,
                    "data": {
                        "text/plain": "  PostalCode           Borough                        Neighborhood\n0        M3A        North York                          Parkwoods \n1        M4A        North York                   Victoria Village \n2        M5A  Downtown Toronto         Regent Park , Harbourfront \n3        M6A        North York  Lawrence Manor , Lawrence Heights \n4        M7A      Queen's Park      Ontario Provincial Government ",
                        "text/html": "<div>\n<style scoped>\n    .dataframe tbody tr th:only-of-type {\n        vertical-align: middle;\n    }\n\n    .dataframe tbody tr th {\n        vertical-align: top;\n    }\n\n    .dataframe thead th {\n        text-align: right;\n    }\n</style>\n<table border=\"1\" class=\"dataframe\">\n  <thead>\n    <tr style=\"text-align: right;\">\n      <th></th>\n      <th>PostalCode</th>\n      <th>Borough</th>\n      <th>Neighborhood</th>\n    </tr>\n  </thead>\n  <tbody>\n    <tr>\n      <th>0</th>\n      <td>M3A</td>\n      <td>North York</td>\n      <td>Parkwoods</td>\n    </tr>\n    <tr>\n      <th>1</th>\n      <td>M4A</td>\n      <td>North York</td>\n      <td>Victoria Village</td>\n    </tr>\n    <tr>\n      <th>2</th>\n      <td>M5A</td>\n      <td>Downtown Toronto</td>\n      <td>Regent Park , Harbourfront</td>\n    </tr>\n    <tr>\n      <th>3</th>\n      <td>M6A</td>\n      <td>North York</td>\n      <td>Lawrence Manor , Lawrence Heights</td>\n    </tr>\n    <tr>\n      <th>4</th>\n      <td>M7A</td>\n      <td>Queen's Park</td>\n      <td>Ontario Provincial Government</td>\n    </tr>\n  </tbody>\n</table>\n</div>"
                    },
                    "metadata": {}
                }
            ]
        },
        {
            "metadata": {},
            "cell_type": "code",
            "source": "",
            "execution_count": null,
            "outputs": []
        },
        {
            "metadata": {},
            "cell_type": "code",
            "source": "",
            "execution_count": null,
            "outputs": []
        }
    ],
    "metadata": {
        "kernelspec": {
            "name": "python3",
            "display_name": "Python 3.7",
            "language": "python"
        },
        "language_info": {
            "name": "python",
            "version": "3.7.10",
            "mimetype": "text/x-python",
            "codemirror_mode": {
                "name": "ipython",
                "version": 3
            },
            "pygments_lexer": "ipython3",
            "nbconvert_exporter": "python",
            "file_extension": ".py"
        }
    },
    "nbformat": 4,
    "nbformat_minor": 1
}